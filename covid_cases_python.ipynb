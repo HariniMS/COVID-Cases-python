{
  "nbformat": 4,
  "nbformat_minor": 0,
  "metadata": {
    "colab": {
      "name": "covid_cases_python.ipynb",
      "provenance": []
    },
    "kernelspec": {
      "name": "python3",
      "display_name": "Python 3"
    }
  },
  "cells": [
    {
      "cell_type": "markdown",
      "metadata": {
        "id": "FCngHkgFr9PL",
        "colab_type": "text"
      },
      "source": [
        "# Get any Country's current COVID Cases"
      ]
    },
    {
      "cell_type": "code",
      "metadata": {
        "id": "ZexGGL9sqwcr",
        "colab_type": "code",
        "colab": {
          "base_uri": "https://localhost:8080/",
          "height": 188
        },
        "outputId": "b96109c8-59ee-4934-d0fe-72d7c6d6a453"
      },
      "source": [
        "#installing covid \n",
        "!pip install covid\n",
        "\n",
        "#importing Covid module \n",
        "from covid import Covid"
      ],
      "execution_count": 1,
      "outputs": [
        {
          "output_type": "stream",
          "text": [
            "Requirement already satisfied: covid in /usr/local/lib/python3.6/dist-packages (2.3.0)\n",
            "Requirement already satisfied: pydantic in /usr/local/lib/python3.6/dist-packages (from covid) (1.6.1)\n",
            "Requirement already satisfied: beautifulsoup4 in /usr/local/lib/python3.6/dist-packages (from covid) (4.6.3)\n",
            "Requirement already satisfied: requests in /usr/local/lib/python3.6/dist-packages (from covid) (2.23.0)\n",
            "Requirement already satisfied: dataclasses>=0.6; python_version < \"3.7\" in /usr/local/lib/python3.6/dist-packages (from pydantic->covid) (0.7)\n",
            "Requirement already satisfied: chardet<4,>=3.0.2 in /usr/local/lib/python3.6/dist-packages (from requests->covid) (3.0.4)\n",
            "Requirement already satisfied: certifi>=2017.4.17 in /usr/local/lib/python3.6/dist-packages (from requests->covid) (2020.6.20)\n",
            "Requirement already satisfied: urllib3!=1.25.0,!=1.25.1,<1.26,>=1.21.1 in /usr/local/lib/python3.6/dist-packages (from requests->covid) (1.24.3)\n",
            "Requirement already satisfied: idna<3,>=2.5 in /usr/local/lib/python3.6/dist-packages (from requests->covid) (2.10)\n"
          ],
          "name": "stdout"
        }
      ]
    },
    {
      "cell_type": "code",
      "metadata": {
        "id": "Fx9l71z-q5o3",
        "colab_type": "code",
        "colab": {}
      },
      "source": [
        "#callig Covid() function\n",
        "covid = Covid()"
      ],
      "execution_count": 2,
      "outputs": []
    },
    {
      "cell_type": "code",
      "metadata": {
        "id": "1W15roTJq8eD",
        "colab_type": "code",
        "colab": {}
      },
      "source": [
        "#getting corona cases by country wise\n",
        "cases = covid.get_status_by_country_name(\"australia\")"
      ],
      "execution_count": 3,
      "outputs": []
    },
    {
      "cell_type": "code",
      "metadata": {
        "id": "md-5iC2zrUoP",
        "colab_type": "code",
        "colab": {
          "base_uri": "https://localhost:8080/",
          "height": 168
        },
        "outputId": "2a828a5a-4772-46f4-8596-a56aeef42f2c"
      },
      "source": [
        "#printing all the deatils of corona cases in the particular country \n",
        "\n",
        "#priniting australia corona cases details\n",
        "for x in cases:\n",
        "  print(x, \":\", cases[x])"
      ],
      "execution_count": 4,
      "outputs": [
        {
          "output_type": "stream",
          "text": [
            "id : 1\n",
            "country : Australia\n",
            "confirmed : 14935\n",
            "active : 5603\n",
            "deaths : 161\n",
            "recovered : 9171\n",
            "latitude : -25.0\n",
            "longitude : 133.0\n",
            "last_update : 1595817310000\n"
          ],
          "name": "stdout"
        }
      ]
    }
  ]
}